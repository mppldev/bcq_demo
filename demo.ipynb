{
 "cells": [
  {
   "cell_type": "code",
   "execution_count": null,
   "metadata": {},
   "outputs": [],
   "source": [
    "import argparse\n",
    "import gym\n",
    "import numpy as np\n",
    "import os\n",
    "import torch\n",
    "\n",
    "import BCQ\n",
    "import DDPG\n",
    "import utils\n",
    "\n",
    "from gym.wrappers import Monitor"
   ]
  },
  {
   "cell_type": "code",
   "execution_count": null,
   "metadata": {},
   "outputs": [],
   "source": [
    "from pyvirtualdisplay import Display\n",
    "display = Display(visible=0, size=(1400, 900))\n",
    "display.start()"
   ]
  },
  {
   "cell_type": "code",
   "execution_count": null,
   "metadata": {},
   "outputs": [],
   "source": [
    "ENV_NAME = \"LunarLanderContinuous-v2\"\n",
    "SEED = 0\n",
    "MAX_EP = 10"
   ]
  },
  {
   "cell_type": "code",
   "execution_count": null,
   "metadata": {},
   "outputs": [],
   "source": [
    "env = gym.make(ENV_NAME)\n",
    "env = Monitor(env, 'videos/', force=True)\n",
    "env.seed(SEED)\n",
    "torch.manual_seed(SEED)\n",
    "np.random.seed(SEED)"
   ]
  },
  {
   "cell_type": "code",
   "execution_count": null,
   "metadata": {},
   "outputs": [],
   "source": [
    "state_dim = env.observation_space.shape[0]\n",
    "action_dim = env.action_space.shape[0] \n",
    "max_action = float(env.action_space.high[0])"
   ]
  },
  {
   "cell_type": "code",
   "execution_count": null,
   "metadata": {},
   "outputs": [],
   "source": [
    "device = torch.device(\"cuda\" if torch.cuda.is_available() else \"cpu\")\n",
    "\n",
    "bcq = BCQ.BCQ(\n",
    "    state_dim,\n",
    "    action_dim,\n",
    "    max_action,\n",
    "    device,\n",
    "    0.99,\n",
    "    0.005,\n",
    "    0.75,\n",
    "    0.05\n",
    ")\n",
    "\n",
    "bcq.load(f\"./models/bcq_{ENV_NAME}_{SEED}\")\n",
    "ep = 0"
   ]
  },
  {
   "cell_type": "code",
   "execution_count": null,
   "metadata": {},
   "outputs": [],
   "source": [
    "avg_reward = 0.\n",
    "for _ in range(MAX_EP):\n",
    "    state, done = env.reset(), False\n",
    "    while not done:\n",
    "        ac = bcq.select_action(state)\n",
    "        state, reward, done, _ = env.step(ac)\n",
    "        avg_reward += reward\n",
    "avg_reward /= MAX_EP\n",
    "\n",
    "print(f\"AVG Reward = {avg_reward}\")"
   ]
  },
  {
   "cell_type": "code",
   "execution_count": null,
   "metadata": {},
   "outputs": [],
   "source": []
  }
 ],
 "metadata": {
  "language_info": {
   "codemirror_mode": {
    "name": "ipython",
    "version": 3
   },
   "file_extension": ".py",
   "mimetype": "text/x-python",
   "name": "python",
   "nbconvert_exporter": "python",
   "pygments_lexer": "ipython3",
   "version": "3.6.10-final"
  },
  "orig_nbformat": 2,
  "kernelspec": {
   "name": "python361064bit1a76bd9b3e39434180bef252ff59d5c0",
   "display_name": "Python 3.6.10 64-bit"
  }
 },
 "nbformat": 4,
 "nbformat_minor": 2
}